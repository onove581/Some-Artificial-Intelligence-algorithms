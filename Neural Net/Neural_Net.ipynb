{
  "nbformat": 4,
  "nbformat_minor": 0,
  "metadata": {
    "colab": {
      "name": "Neural Net.ipynb",
      "provenance": [],
      "collapsed_sections": []
    },
    "kernelspec": {
      "name": "python3",
      "display_name": "Python 3"
    },
    "language_info": {
      "name": "python"
    }
  },
  "cells": [
    {
      "cell_type": "code",
      "metadata": {
        "colab": {
          "base_uri": "https://localhost:8080/"
        },
        "id": "k5b3wFdSwcrX",
        "outputId": "c16661f4-d277-42b6-e9ac-3f637a9c5b7e"
      },
      "source": [
        "import numpy as np\n",
        "\n",
        "class NeuralNetwork():\n",
        "    \n",
        "    def __init__(self):\n",
        "        np.random.seed(1)\n",
        "        \n",
        "        self.synaptic_weights = 2 * np.random.random((3, 1)) - 1\n",
        "\n",
        "    def sigmoid(self, x):\n",
        "        return 1 / (1 + np.exp(-x))\n",
        "\n",
        "    def sigmoid_derivative(self, x):\n",
        "        return x * (1 - x)\n",
        "\n",
        "    def train(self, training_inputs, training_outputs, training_iterations):\n",
        "        \n",
        "        for iteration in range(training_iterations):\n",
        "            output = self.think(training_inputs)\n",
        "\n",
        "            error = training_outputs - output\n",
        "            \n",
        "            adjustments = np.dot(training_inputs.T, error * self.sigmoid_derivative(output))\n",
        "\n",
        "            self.synaptic_weights += adjustments\n",
        "\n",
        "    def think(self, inputs):\n",
        "        \n",
        "        inputs = inputs.astype(float)\n",
        "        output = self.sigmoid(np.dot(inputs, self.synaptic_weights))\n",
        "        return output\n",
        "\n",
        "\n",
        "if __name__ == \"__main__\":\n",
        "\n",
        "    neural_network = NeuralNetwork()\n",
        "\n",
        "    print(\"Beginning Randomly Generated Weights: \")\n",
        "    print(neural_network.synaptic_weights)\n",
        "\n",
        "    training_inputs = np.array([[0,0,1],\n",
        "                                [1,1,1],\n",
        "                                [1,0,1],\n",
        "                                [0,1,1]])\n",
        "\n",
        "    training_outputs = np.array([[0,1,1,0]]).T\n",
        "\n",
        "    neural_network.train(training_inputs, training_outputs, 15000)\n",
        "\n",
        "    print(\"Ending Weights After Training: \")\n",
        "    print(neural_network.synaptic_weights)\n",
        "\n",
        "    user_input_one = str(input(\"User Input One: \"))\n",
        "    user_input_two = str(input(\"User Input Two: \"))\n",
        "    user_input_three = str(input(\"User Input Three: \"))\n",
        "    \n",
        "    print(\"Considering New Situation: \", user_input_one, user_input_two, user_input_three)\n",
        "    print(\"New Output data: \")\n",
        "    print(neural_network.think(np.array([user_input_one, user_input_two, user_input_three])))\n",
        "    print(\"Wow, we did it!\")"
      ],
      "execution_count": 2,
      "outputs": [
        {
          "output_type": "stream",
          "name": "stdout",
          "text": [
            "Beginning Randomly Generated Weights: \n",
            "[[-0.16595599]\n",
            " [ 0.44064899]\n",
            " [-0.99977125]]\n",
            "Ending Weights After Training: \n",
            "[[10.08740896]\n",
            " [-0.20695366]\n",
            " [-4.83757835]]\n",
            "User Input One: 4\n",
            "User Input Two: 7\n",
            "User Input Three: 3\n",
            "Considering New Situation:  4 7 3\n",
            "New Output data: \n",
            "[1.]\n",
            "Wow, we did it!\n"
          ]
        }
      ]
    },
    {
      "cell_type": "code",
      "metadata": {
        "id": "KJHYAO8vwk-J"
      },
      "source": [
        "def nonlin(x, deriv=False):\n",
        "    if(deriv == True):\n",
        "        return x*(1-x)\n",
        "    return 1/(1+np.exp(-x))"
      ],
      "execution_count": 3,
      "outputs": []
    },
    {
      "cell_type": "code",
      "metadata": {
        "id": "VeRPbwJXwrnD"
      },
      "source": [
        "x = np.array([\n",
        "    [0,0,1], \n",
        "    [0,1,1], \n",
        "    [0,1,0], \n",
        "    [1,1,1]\n",
        "])\n",
        "y = np.array([[0,0,1,1]]).T"
      ],
      "execution_count": 4,
      "outputs": []
    },
    {
      "cell_type": "code",
      "metadata": {
        "colab": {
          "base_uri": "https://localhost:8080/"
        },
        "id": "DGxomSkmwtdR",
        "outputId": "367e8084-05a8-4e27-d0c8-2c21d5519e2b"
      },
      "source": [
        "np.random.seed(1)\n",
        "w0 = 2 * np.random.random((3,1))-1\n",
        "for iter in range(10):\n",
        "    l0 = x\n",
        "    l1 = np.dot(l0, w0)\n",
        "    l1 = nonlin(l1)\n",
        "    l1_error = y-l1\n",
        "    delta_l1 = l1_error * nonlin(l1,True)\n",
        "    w0 = w0 + np.dot(l0.T, delta_l1)\n",
        "print(\"End of training. View the output\")\n",
        "print(l1)"
      ],
      "execution_count": 6,
      "outputs": [
        {
          "output_type": "stream",
          "name": "stdout",
          "text": [
            "End of training. View the output\n",
            "[[0.20494184]\n",
            " [0.43341037]\n",
            " [0.74795568]\n",
            " [0.64451171]]\n"
          ]
        }
      ]
    },
    {
      "cell_type": "code",
      "metadata": {
        "id": "9OAAqm0HwzYx"
      },
      "source": [
        "import matplotlib.pyplot as plt\n",
        "from IPython.display import Audio\n",
        "import numpy as np\n",
        "import math\n",
        "\n",
        "%matplotlib inline"
      ],
      "execution_count": 7,
      "outputs": []
    },
    {
      "cell_type": "code",
      "metadata": {
        "id": "prMQGilHw4Fx"
      },
      "source": [
        "toNodes = range(3, 5)\n",
        "fromNodes = range(0, 2)"
      ],
      "execution_count": 8,
      "outputs": []
    },
    {
      "cell_type": "code",
      "metadata": {
        "id": "heEMsKltw5qB"
      },
      "source": [
        "bias       = [0.2, -0.1, 0.5, 0.1, 0.4, 0.9]\n",
        "activation = [0.8, -0.3, -0.8, 0.1, 0.5]\n",
        "netInput   = [0, 0, 0, 0, 0]\n",
        "weight = [[ 0.1, -0.8], \n",
        "          [-0.3,  0.1], \n",
        "          [ 0.2, -0.1], \n",
        "          [ 0.0,  0.1], \n",
        "          [ 0.8, -0.8], \n",
        "          [ 0.4, 0.5]]"
      ],
      "execution_count": 9,
      "outputs": []
    },
    {
      "cell_type": "code",
      "metadata": {
        "colab": {
          "base_uri": "https://localhost:8080/"
        },
        "id": "Aq_jy9gCw6Ky",
        "outputId": "7af2f806-c4f6-413f-ff87-09859c856d07"
      },
      "source": [
        "for i in toNodes:\n",
        "    netInput[i] = bias[i]\n",
        "    for j in fromNodes:\n",
        "        netInput[i] += (weight[i][j] * activation[j]) \n",
        "netInput"
      ],
      "execution_count": 10,
      "outputs": [
        {
          "output_type": "execute_result",
          "data": {
            "text/plain": [
              "[0, 0, 0, 0.07, 1.28]"
            ]
          },
          "metadata": {},
          "execution_count": 10
        }
      ]
    },
    {
      "cell_type": "code",
      "metadata": {
        "id": "N_DwXcYtw9CZ"
      },
      "source": [
        "def activationFunction(netInput):\n",
        "    return 1.0 / (1.0 + math.exp(-netInput))"
      ],
      "execution_count": 11,
      "outputs": []
    },
    {
      "cell_type": "code",
      "metadata": {
        "colab": {
          "base_uri": "https://localhost:8080/"
        },
        "id": "AoUp7J0pw-si",
        "outputId": "a886c1e1-f63f-44ac-fdcf-7f4c37bdb084"
      },
      "source": [
        "for i in toNodes:\n",
        "    activation[i] = activationFunction(netInput[i])\n",
        "activation"
      ],
      "execution_count": 12,
      "outputs": [
        {
          "output_type": "execute_result",
          "data": {
            "text/plain": [
              "[0.8, -0.3, -0.8, 0.5174928576663897, 0.7824497764231124]"
            ]
          },
          "metadata": {},
          "execution_count": 12
        }
      ]
    },
    {
      "cell_type": "code",
      "metadata": {
        "id": "cf7xF_3DxAnp"
      },
      "source": [
        "xs = range(-10, 10)\n",
        "pts = [activationFunction(x) for x in xs]"
      ],
      "execution_count": 13,
      "outputs": []
    },
    {
      "cell_type": "code",
      "metadata": {
        "colab": {
          "base_uri": "https://localhost:8080/",
          "height": 279
        },
        "id": "L-RqPYdUxJTj",
        "outputId": "2f093804-ee01-4e3f-bb95-6a720a41dfac"
      },
      "source": [
        "plt.plot(xs, pts)\n",
        "plt.xlabel(\"input\")\n",
        "plt.ylabel(\"output\")\n",
        "plt.show()"
      ],
      "execution_count": 14,
      "outputs": [
        {
          "output_type": "display_data",
          "data": {
            "image/png": "[encoded data removed]",
            "text/plain": [
              "<Figure size 432x288 with 1 Axes>"
            ]
          },
          "metadata": {
            "needs_background": "light"
          }
        }
      ]
    },
    {
      "cell_type": "code",
      "metadata": {
        "id": "DrjSC_Z0xL-i"
      },
      "source": [
        "desiredOutput = [0.1, 0.2, 0.3, 0.4, 0.5]\n",
        "actualOutput = [0.8, 0.6, 0.5, 0.8, 0.3]\n",
        "\n",
        "error = [0.0 for i in desiredOutput]\n",
        "delta = [0.0 for i in desiredOutput]\n",
        "\n",
        "EPSILON = 0.1   # learning rate\n",
        "MOMENTUM = 0.01 # a smoothing term\n",
        "\n",
        "weightUpdate = [[ 0.0, 0.0], \n",
        "                [ 0.0, 0.0], \n",
        "                [ 0.0, 0.0], \n",
        "                [ 0.0, 0.0], \n",
        "                [ 0.0, 0.0], \n",
        "                [ 0.0, 0.0]]"
      ],
      "execution_count": 15,
      "outputs": []
    },
    {
      "cell_type": "code",
      "metadata": {
        "colab": {
          "base_uri": "https://localhost:8080/"
        },
        "id": "OW7rK-hpxNcp",
        "outputId": "43840858-af68-497c-fed3-7b600656417d"
      },
      "source": [
        "for i in toNodes:\n",
        "    error[i] = (desiredOutput[i] - actualOutput[i])\n",
        "    delta[i] = error[i] * actualOutput[i] * (1 - actualOutput[i])\n",
        "    for j in fromNodes:\n",
        "        weightUpdate[i][j] = (EPSILON * delta[i] * actualOutput[j]) + (MOMENTUM * weightUpdate[i][j])\n",
        "        \n",
        "weightUpdate"
      ],
      "execution_count": 16,
      "outputs": [
        {
          "output_type": "execute_result",
          "data": {
            "text/plain": [
              "[[0.0, 0.0],\n",
              " [0.0, 0.0],\n",
              " [0.0, 0.0],\n",
              " [-0.00512, -0.00384],\n",
              " [0.00336, 0.0025199999999999997],\n",
              " [0.0, 0.0]]"
            ]
          },
          "metadata": {},
          "execution_count": 16
        }
      ]
    },
    {
      "cell_type": "code",
      "metadata": {
        "colab": {
          "base_uri": "https://localhost:8080/"
        },
        "id": "xCp4Ky8qxPDA",
        "outputId": "eb2c5321-7776-441f-a013-eb982d426a86"
      },
      "source": [
        "pip install calysto"
      ],
      "execution_count": 17,
      "outputs": [
        {
          "output_type": "stream",
          "name": "stdout",
          "text": [
            "Collecting calysto\n",
            "  Downloading calysto-1.0.6-py3-none-any.whl (82 kB)\n",
            "\u001b[K     |████████████████████████████████| 82 kB 855 kB/s \n",
            "\u001b[?25hCollecting cairosvg\n",
            "  Downloading CairoSVG-2.5.2-py3-none-any.whl (45 kB)\n",
            "\u001b[K     |████████████████████████████████| 45 kB 2.9 MB/s \n",
            "\u001b[?25hCollecting svgwrite\n",
            "  Downloading svgwrite-1.4.1-py3-none-any.whl (66 kB)\n",
            "\u001b[K     |████████████████████████████████| 66 kB 4.5 MB/s \n",
            "\u001b[?25hCollecting metakernel\n",
            "  Downloading metakernel-0.27.5-py2.py3-none-any.whl (208 kB)\n",
            "\u001b[K     |████████████████████████████████| 208 kB 40.5 MB/s \n",
            "\u001b[?25hRequirement already satisfied: ipywidgets in /usr/local/lib/python3.7/dist-packages (from calysto) (7.6.5)\n",
            "Requirement already satisfied: IPython in /usr/local/lib/python3.7/dist-packages (from calysto) (5.5.0)\n",
            "Requirement already satisfied: pillow in /usr/local/lib/python3.7/dist-packages (from cairosvg->calysto) (7.1.2)\n",
            "Collecting cssselect2\n",
            "  Downloading cssselect2-0.4.1-py3-none-any.whl (13 kB)\n",
            "Requirement already satisfied: defusedxml in /usr/local/lib/python3.7/dist-packages (from cairosvg->calysto) (0.7.1)\n",
            "Collecting cairocffi\n",
            "  Downloading cairocffi-1.3.0.tar.gz (88 kB)\n",
            "\u001b[K     |████████████████████████████████| 88 kB 6.2 MB/s \n",
            "\u001b[?25hCollecting tinycss2\n",
            "  Downloading tinycss2-1.1.0-py3-none-any.whl (21 kB)\n",
            "Requirement already satisfied: cffi>=1.1.0 in /usr/local/lib/python3.7/dist-packages (from cairocffi->cairosvg->calysto) (1.14.6)\n",
            "Requirement already satisfied: pycparser in /usr/local/lib/python3.7/dist-packages (from cffi>=1.1.0->cairocffi->cairosvg->calysto) (2.20)\n",
            "Requirement already satisfied: webencodings in /usr/local/lib/python3.7/dist-packages (from cssselect2->cairosvg->calysto) (0.5.1)\n",
            "Requirement already satisfied: pexpect in /usr/local/lib/python3.7/dist-packages (from IPython->calysto) (4.8.0)\n",
            "Requirement already satisfied: decorator in /usr/local/lib/python3.7/dist-packages (from IPython->calysto) (4.4.2)\n",
            "Requirement already satisfied: pygments in /usr/local/lib/python3.7/dist-packages (from IPython->calysto) (2.6.1)\n",
            "Requirement already satisfied: pickleshare in /usr/local/lib/python3.7/dist-packages (from IPython->calysto) (0.7.5)\n",
            "Requirement already satisfied: prompt-toolkit<2.0.0,>=1.0.4 in /usr/local/lib/python3.7/dist-packages (from IPython->calysto) (1.0.18)\n",
            "Requirement already satisfied: traitlets>=4.2 in /usr/local/lib/python3.7/dist-packages (from IPython->calysto) (5.1.0)\n",
            "Requirement already satisfied: simplegeneric>0.8 in /usr/local/lib/python3.7/dist-packages (from IPython->calysto) (0.8.1)\n",
            "Requirement already satisfied: setuptools>=18.5 in /usr/local/lib/python3.7/dist-packages (from IPython->calysto) (57.4.0)\n",
            "Requirement already satisfied: wcwidth in /usr/local/lib/python3.7/dist-packages (from prompt-toolkit<2.0.0,>=1.0.4->IPython->calysto) (0.2.5)\n",
            "Requirement already satisfied: six>=1.9.0 in /usr/local/lib/python3.7/dist-packages (from prompt-toolkit<2.0.0,>=1.0.4->IPython->calysto) (1.15.0)\n",
            "Requirement already satisfied: ipython-genutils~=0.2.0 in /usr/local/lib/python3.7/dist-packages (from ipywidgets->calysto) (0.2.0)\n",
            "Requirement already satisfied: jupyterlab-widgets>=1.0.0 in /usr/local/lib/python3.7/dist-packages (from ipywidgets->calysto) (1.0.2)\n",
            "Requirement already satisfied: nbformat>=4.2.0 in /usr/local/lib/python3.7/dist-packages (from ipywidgets->calysto) (5.1.3)\n",
            "Requirement already satisfied: widgetsnbextension~=3.5.0 in /usr/local/lib/python3.7/dist-packages (from ipywidgets->calysto) (3.5.1)\n",
            "Requirement already satisfied: ipykernel>=4.5.1 in /usr/local/lib/python3.7/dist-packages (from ipywidgets->calysto) (4.10.1)\n",
            "Requirement already satisfied: tornado>=4.0 in /usr/local/lib/python3.7/dist-packages (from ipykernel>=4.5.1->ipywidgets->calysto) (5.1.1)\n",
            "Requirement already satisfied: jupyter-client in /usr/local/lib/python3.7/dist-packages (from ipykernel>=4.5.1->ipywidgets->calysto) (5.3.5)\n",
            "Requirement already satisfied: jsonschema!=2.5.0,>=2.4 in /usr/local/lib/python3.7/dist-packages (from nbformat>=4.2.0->ipywidgets->calysto) (2.6.0)\n",
            "Requirement already satisfied: jupyter-core in /usr/local/lib/python3.7/dist-packages (from nbformat>=4.2.0->ipywidgets->calysto) (4.8.1)\n",
            "Requirement already satisfied: notebook>=4.4.1 in /usr/local/lib/python3.7/dist-packages (from widgetsnbextension~=3.5.0->ipywidgets->calysto) (5.3.1)\n",
            "Requirement already satisfied: nbconvert in /usr/local/lib/python3.7/dist-packages (from notebook>=4.4.1->widgetsnbextension~=3.5.0->ipywidgets->calysto) (5.6.1)\n",
            "Requirement already satisfied: Send2Trash in /usr/local/lib/python3.7/dist-packages (from notebook>=4.4.1->widgetsnbextension~=3.5.0->ipywidgets->calysto) (1.8.0)\n",
            "Requirement already satisfied: jinja2 in /usr/local/lib/python3.7/dist-packages (from notebook>=4.4.1->widgetsnbextension~=3.5.0->ipywidgets->calysto) (2.11.3)\n",
            "Requirement already satisfied: terminado>=0.8.1 in /usr/local/lib/python3.7/dist-packages (from notebook>=4.4.1->widgetsnbextension~=3.5.0->ipywidgets->calysto) (0.12.1)\n",
            "Requirement already satisfied: pyzmq>=13 in /usr/local/lib/python3.7/dist-packages (from jupyter-client->ipykernel>=4.5.1->ipywidgets->calysto) (22.3.0)\n",
            "Requirement already satisfied: python-dateutil>=2.1 in /usr/local/lib/python3.7/dist-packages (from jupyter-client->ipykernel>=4.5.1->ipywidgets->calysto) (2.8.2)\n",
            "Requirement already satisfied: ptyprocess in /usr/local/lib/python3.7/dist-packages (from terminado>=0.8.1->notebook>=4.4.1->widgetsnbextension~=3.5.0->ipywidgets->calysto) (0.7.0)\n",
            "Requirement already satisfied: MarkupSafe>=0.23 in /usr/local/lib/python3.7/dist-packages (from jinja2->notebook>=4.4.1->widgetsnbextension~=3.5.0->ipywidgets->calysto) (2.0.1)\n",
            "Requirement already satisfied: mistune<2,>=0.8.1 in /usr/local/lib/python3.7/dist-packages (from nbconvert->notebook>=4.4.1->widgetsnbextension~=3.5.0->ipywidgets->calysto) (0.8.4)\n",
            "Requirement already satisfied: entrypoints>=0.2.2 in /usr/local/lib/python3.7/dist-packages (from nbconvert->notebook>=4.4.1->widgetsnbextension~=3.5.0->ipywidgets->calysto) (0.3)\n",
            "Requirement already satisfied: bleach in /usr/local/lib/python3.7/dist-packages (from nbconvert->notebook>=4.4.1->widgetsnbextension~=3.5.0->ipywidgets->calysto) (4.1.0)\n",
            "Requirement already satisfied: pandocfilters>=1.4.1 in /usr/local/lib/python3.7/dist-packages (from nbconvert->notebook>=4.4.1->widgetsnbextension~=3.5.0->ipywidgets->calysto) (1.5.0)\n",
            "Requirement already satisfied: testpath in /usr/local/lib/python3.7/dist-packages (from nbconvert->notebook>=4.4.1->widgetsnbextension~=3.5.0->ipywidgets->calysto) (0.5.0)\n",
            "Requirement already satisfied: packaging in /usr/local/lib/python3.7/dist-packages (from bleach->nbconvert->notebook>=4.4.1->widgetsnbextension~=3.5.0->ipywidgets->calysto) (21.0)\n",
            "Requirement already satisfied: pyparsing>=2.0.2 in /usr/local/lib/python3.7/dist-packages (from packaging->bleach->nbconvert->notebook>=4.4.1->widgetsnbextension~=3.5.0->ipywidgets->calysto) (2.4.7)\n",
            "Building wheels for collected packages: cairocffi\n",
            "  Building wheel for cairocffi (setup.py) ... \u001b[?25l\u001b[?25hdone\n",
            "  Created wheel for cairocffi: filename=cairocffi-1.3.0-py3-none-any.whl size=89667 sha256=73eb1e2ae5499d75eefe7c0e030d794a896008fc5efdd63547d6ea7fa8058a01\n",
            "  Stored in directory: /root/.cache/pip/wheels/4e/ca/e1/5c8a9692a27f639a07c949044bec943f26c81cd53d3805319f\n",
            "Successfully built cairocffi\n",
            "Installing collected packages: tinycss2, cssselect2, cairocffi, svgwrite, metakernel, cairosvg, calysto\n",
            "Successfully installed cairocffi-1.3.0 cairosvg-2.5.2 calysto-1.0.6 cssselect2-0.4.1 metakernel-0.27.5 svgwrite-1.4.1 tinycss2-1.1.0\n"
          ]
        }
      ]
    },
    {
      "cell_type": "code",
      "metadata": {
        "id": "x0KSIkFExRVZ"
      },
      "source": [
        "from calysto.ai.conx import *"
      ],
      "execution_count": 18,
      "outputs": []
    },
    {
      "cell_type": "code",
      "metadata": {
        "colab": {
          "base_uri": "https://localhost:8080/"
        },
        "id": "XMOWiu-exYkM",
        "outputId": "4b6af15c-66c6-4fa0-850c-592a77c14aaa"
      },
      "source": [
        "net = Network()\n",
        "net.addLayers(2, 3, 1)\n",
        "net"
      ],
      "execution_count": 19,
      "outputs": [
        {
          "output_type": "stream",
          "name": "stdout",
          "text": [
            "Conx using seed: 1636465110.1102667\n"
          ]
        },
        {
          "output_type": "execute_result",
          "data": {
            "text/plain": [
              "Layer 'output': (Kind: Output, Size: 1, Active: 1, Frozen: 0)\n",
              "Target    : 0.00  \n",
              "Activation: 0.00  \n",
              "Layer 'hidden': (Kind: Hidden, Size: 3, Active: 1, Frozen: 0)\n",
              "Activation: 0.00  0.00  0.00  \n",
              "Layer 'input': (Kind: Input, Size: 2, Active: 1, Frozen: 0)\n",
              "Activation: 0.00  0.00  "
            ]
          },
          "metadata": {},
          "execution_count": 19
        }
      ]
    },
    {
      "cell_type": "code",
      "metadata": {
        "colab": {
          "base_uri": "https://localhost:8080/"
        },
        "id": "ZDMySFJexaLg",
        "outputId": "06f8f54d-7e60-4a24-f06d-003e00ad700a"
      },
      "source": [
        "net.propagate(input=[0, 0])"
      ],
      "execution_count": 20,
      "outputs": [
        {
          "output_type": "execute_result",
          "data": {
            "text/plain": [
              "array('d', [0.4739501920025527])"
            ]
          },
          "metadata": {},
          "execution_count": 20
        }
      ]
    },
    {
      "cell_type": "code",
      "metadata": {
        "colab": {
          "base_uri": "https://localhost:8080/"
        },
        "id": "Vp7L_4jrxboI",
        "outputId": "91590742-0263-40d2-bf9d-4588cd5bd1f6"
      },
      "source": [
        "net.setInputs([[0.0, 0.0],[0.0, 1.0],[1.0, 0.0],[1.0, 1.0]])\n",
        "net.setOutputs([[0.0],[0.0],[0.0],[1.0]])\n",
        "\n",
        "net.setEpsilon(0.5)\n",
        "net.setTolerance(0.2)\n",
        "net.setReportRate(1)\n",
        "\n",
        "net.train()"
      ],
      "execution_count": 21,
      "outputs": [
        {
          "output_type": "stream",
          "name": "stdout",
          "text": [
            "Epoch #     1 | TSS Error: 1.0228 | Correct: 0.0000 | RMS Error: 0.5057\n",
            "Epoch #     2 | TSS Error: 0.7695 | Correct: 0.0000 | RMS Error: 0.4386\n",
            "Epoch #     3 | TSS Error: 0.7894 | Correct: 0.7500 | RMS Error: 0.4442\n",
            "Epoch #     4 | TSS Error: 0.8586 | Correct: 0.7500 | RMS Error: 0.4633\n",
            "Epoch #     5 | TSS Error: 0.8415 | Correct: 0.7500 | RMS Error: 0.4587\n",
            "Epoch #     6 | TSS Error: 0.8295 | Correct: 0.7500 | RMS Error: 0.4554\n",
            "Epoch #     7 | TSS Error: 0.7276 | Correct: 0.0000 | RMS Error: 0.4265\n",
            "Epoch #     8 | TSS Error: 0.7976 | Correct: 0.0000 | RMS Error: 0.4465\n",
            "Epoch #     9 | TSS Error: 0.7746 | Correct: 0.0000 | RMS Error: 0.4401\n",
            "Epoch #    10 | TSS Error: 0.7133 | Correct: 0.0000 | RMS Error: 0.4223\n",
            "Epoch #    11 | TSS Error: 0.6840 | Correct: 0.2500 | RMS Error: 0.4135\n",
            "Epoch #    12 | TSS Error: 0.6924 | Correct: 0.2500 | RMS Error: 0.4160\n",
            "Epoch #    13 | TSS Error: 0.6362 | Correct: 0.2500 | RMS Error: 0.3988\n",
            "Epoch #    14 | TSS Error: 0.6241 | Correct: 0.2500 | RMS Error: 0.3950\n",
            "Epoch #    15 | TSS Error: 0.5932 | Correct: 0.2500 | RMS Error: 0.3851\n",
            "Epoch #    16 | TSS Error: 0.5517 | Correct: 0.2500 | RMS Error: 0.3714\n",
            "Epoch #    17 | TSS Error: 0.5319 | Correct: 0.2500 | RMS Error: 0.3647\n",
            "Epoch #    18 | TSS Error: 0.5044 | Correct: 0.2500 | RMS Error: 0.3551\n",
            "Epoch #    19 | TSS Error: 0.5026 | Correct: 0.2500 | RMS Error: 0.3545\n",
            "Epoch #    20 | TSS Error: 0.4985 | Correct: 0.2500 | RMS Error: 0.3530\n",
            "Epoch #    21 | TSS Error: 0.4022 | Correct: 0.2500 | RMS Error: 0.3171\n",
            "Epoch #    22 | TSS Error: 0.3938 | Correct: 0.2500 | RMS Error: 0.3138\n",
            "Epoch #    23 | TSS Error: 0.3729 | Correct: 0.2500 | RMS Error: 0.3053\n",
            "Epoch #    24 | TSS Error: 0.2996 | Correct: 0.2500 | RMS Error: 0.2737\n",
            "Epoch #    25 | TSS Error: 0.2624 | Correct: 0.7500 | RMS Error: 0.2561\n",
            "Epoch #    26 | TSS Error: 0.2314 | Correct: 0.5000 | RMS Error: 0.2405\n",
            "Epoch #    27 | TSS Error: 0.1941 | Correct: 0.7500 | RMS Error: 0.2203\n",
            "Epoch #    28 | TSS Error: 0.1641 | Correct: 0.7500 | RMS Error: 0.2026\n",
            "Epoch #    29 | TSS Error: 0.1283 | Correct: 0.7500 | RMS Error: 0.1791\n",
            "Epoch #    30 | TSS Error: 0.1189 | Correct: 0.7500 | RMS Error: 0.1724\n",
            "Epoch #    31 | TSS Error: 0.1242 | Correct: 0.7500 | RMS Error: 0.1762\n",
            "Epoch #    32 | TSS Error: 0.0853 | Correct: 1.0000 | RMS Error: 0.1460\n",
            "Final #    32 | TSS Error: 0.0853 | Correct: 1.0000 | RMS Error: 0.1460\n"
          ]
        }
      ]
    },
    {
      "cell_type": "code",
      "metadata": {
        "colab": {
          "base_uri": "https://localhost:8080/",
          "height": 295
        },
        "id": "tUIAtr5Uxdtq",
        "outputId": "6fc8737a-797c-4e01-9821-392f09ff13d0"
      },
      "source": [
        "z = np.zeros((100, 100))\n",
        "\n",
        "for x in range(100):\n",
        "    for y in range(100):\n",
        "        z[x][y] = net.propagate(input=[x/100, y/100])[0]\n",
        "\n",
        "plt.imshow(z, cmap=plt.cm.gray, interpolation='nearest')\n",
        "plt.xlabel(\"input 1\")\n",
        "plt.ylabel(\"input 2\")\n",
        "plt.title(\"Output Activation\")\n",
        "\n",
        "plt.show()"
      ],
      "execution_count": 22,
      "outputs": [
        {
          "output_type": "display_data",
          "data": {
            "image/png": "[encoded data removed]",
            "text/plain": [
              "<Figure size 432x288 with 1 Axes>"
            ]
          },
          "metadata": {
            "needs_background": "light"
          }
        }
      ]
    }
  ]
}